{
 "cells": [
  {
   "cell_type": "code",
   "execution_count": 1,
   "metadata": {},
   "outputs": [],
   "source": [
    "%load_ext autoreload\n",
    "%autoreload 2"
   ]
  },
  {
   "cell_type": "code",
   "execution_count": 3,
   "metadata": {},
   "outputs": [],
   "source": [
    "from nudeform.model import *\n",
    "from nudeform.view import *"
   ]
  },
  {
   "cell_type": "code",
   "execution_count": null,
   "metadata": {},
   "outputs": [],
   "source": [
    "phi, theta = np.mgrid[0:2*np.pi:(args.granularity)*1j, 0:np.pi:(args.granularity)*1j]\n",
    "Rquadr = quadrupole_shape(theta, beta = 1, gamma = 0)\n",
    "r0 = initial_radius(72)\n",
    "R = r0*(1+Rquadr)\n",
    "x,y,z = xyz(R,theta,phi)\n",
    "\n",
    "shape_plot_3D(x, y, z, R, save = False, dpi=dpi, string = '')\n",
    "plt.show()\n",
    "\n",
    "plot_radius_polar_coordinates(R, phi, theta, save = save, dpi=dpi, string = string)"
   ]
  }
 ],
 "metadata": {
  "kernelspec": {
   "display_name": "Python 3 (ipykernel)",
   "language": "python",
   "name": "python3"
  },
  "language_info": {
   "codemirror_mode": {
    "name": "ipython",
    "version": 3
   },
   "file_extension": ".py",
   "mimetype": "text/x-python",
   "name": "python",
   "nbconvert_exporter": "python",
   "pygments_lexer": "ipython3",
   "version": "3.10.4"
  }
 },
 "nbformat": 4,
 "nbformat_minor": 2
}
